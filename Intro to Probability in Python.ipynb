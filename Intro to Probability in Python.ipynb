{
 "cells": [
  {
   "cell_type": "markdown",
   "metadata": {},
   "source": [
    "# Intro to probability in python\n",
    "\n",
    "This is my notebook for learning probability at MIT courseware [Introduction to Probability and Statistics](https://ocw.mit.edu/courses/mathematics/18-05-introduction-to-probability-and-statistics-spring-2014/)\n",
    "\n",
    "\n",
    "# Terminology\n",
    "* **Experiment**: a repeatable procedure with well-defined possible outcomes. <br> \n",
    "For example, rolling a die 3 times, and recording the number on each roll.\n",
    "* **Sample Space**: the set of all possible outcomes. \n",
    "* **Event**: a subset of the sample space\n",
    "* **Probability Function**: a function giving the probability for each outcome\n",
    "* **Probability Density**: a continuous distribution of probabilities\n",
    "* **Random Variable**: a random numerical outcome\n",
    "* **Probability**: Assuming that all outcomes are equally likely, probability of an event with respect to sample space is the number of desireable cases divided by the total number of cases in the sample space.\n",
    "\n",
    "\n",
    "## Code for Probability\n",
    "\n",
    "Here, let event $E$ and Sample Space as $\\Omega$, and <br> $|E|$ and $|\\Omega|$ as numbers of elements in Event and sample space, then \n",
    "\n",
    "$$ P(event) = \\frac{|E \\cap \\Omega|}{|\\Omega|}$$\n",
    "\n",
    "In python this is expressed as "
   ]
  },
  {
   "cell_type": "code",
   "execution_count": 19,
   "metadata": {},
   "outputs": [],
   "source": [
    "from fractions import Fraction\n",
    "\n",
    "def P(event, sample_space):\n",
    "    # Note that numerator is a intersection of set event, and set sample space\n",
    "    # when event includes a outcome that are not in sample space, we don't count that\n",
    "    numerator = len(event & sample_space) \n",
    "    denominator = len(sample_space)\n",
    "    return Fraction(numerator, denominator)"
   ]
  },
  {
   "cell_type": "markdown",
   "metadata": {},
   "source": [
    "\n",
    "## Examples\n",
    "\n",
    "Now Let's take a look at each concept above, using a simple example of \n",
    "\n",
    "### 1. rolling 1 fair die.\n",
    "Here we'll think of Event of getting evene number after 1 roll.\n"
   ]
  },
  {
   "cell_type": "code",
   "execution_count": 3,
   "metadata": {},
   "outputs": [
    {
     "name": "stdout",
     "output_type": "stream",
     "text": [
      "1/2\n"
     ]
    }
   ],
   "source": [
    "sample_space = {1, 2, 3, 4, 5, 6}\n",
    "event = {2, 4, 6}\n",
    "\n",
    "# Probability is...\n",
    "print(P(event, sample_space))"
   ]
  },
  {
   "cell_type": "markdown",
   "metadata": {},
   "source": [
    "### 2. Roll 2 dies, and calculate the sum\n",
    "\n",
    "* **Experiment**: \n",
    "    1. roll one die, and record the number. \n",
    "    2. Roll the other die, and record the number as well. \n",
    "    3. sum up the 2 numbers, and record it\n",
    "\n",
    "Sample Space will be a set of combinations of numbers, first element from 1st die and second from 2nd die.\n",
    "\n",
    "Now `D1` for sample space for dice 1, and `D2` for the same of dice 2. \n",
    "Sample space for the experiement will be a product of the 2 sets,\n",
    "$$ D1 \\times D2 = \\{(d1, d2)|d1\\in D1, d2\\in D2\\}$$\n",
    "\n",
    "**Here is the all possible combinations of the two dies, all equally likely**"
   ]
  },
  {
   "cell_type": "code",
   "execution_count": 2,
   "metadata": {},
   "outputs": [
    {
     "name": "stdout",
     "output_type": "stream",
     "text": [
      "(1, 1)\n",
      "(1, 2)\n",
      "(1, 3)\n",
      "(1, 4)\n",
      "(1, 5)\n",
      "(1, 6)\n",
      "(2, 1)\n",
      "(2, 2)\n",
      "(2, 3)\n",
      "(2, 4)\n",
      "(2, 5)\n",
      "(2, 6)\n",
      "(3, 1)\n",
      "(3, 2)\n",
      "(3, 3)\n",
      "(3, 4)\n",
      "(3, 5)\n",
      "(3, 6)\n",
      "(4, 1)\n",
      "(4, 2)\n",
      "(4, 3)\n",
      "(4, 4)\n",
      "(4, 5)\n",
      "(4, 6)\n",
      "(5, 1)\n",
      "(5, 2)\n",
      "(5, 3)\n",
      "(5, 4)\n",
      "(5, 5)\n",
      "(5, 6)\n",
      "(6, 1)\n",
      "(6, 2)\n",
      "(6, 3)\n",
      "(6, 4)\n",
      "(6, 5)\n",
      "(6, 6)\n"
     ]
    }
   ],
   "source": [
    "D1 = {1, 2, 3, 4, 5, 6}\n",
    "D2 = {i+1 for i in range(6)}\n",
    "\n",
    "sample = set()\n",
    "# creating sample space by multiplying the two sets\n",
    "for i in D1:\n",
    "    for j in D2:\n",
    "        print((i, j))\n",
    "        sample.add((i, j))\n",
    "        \n"
   ]
  },
  {
   "cell_type": "markdown",
   "metadata": {},
   "source": [
    "**What about the sum of the two numbers though...??**"
   ]
  },
  {
   "cell_type": "code",
   "execution_count": 27,
   "metadata": {},
   "outputs": [
    {
     "name": "stdout",
     "output_type": "stream",
     "text": [
      "Sum    Dies\n",
      "{2: {(1, 1)},\n",
      " 3: {(1, 2), (2, 1)},\n",
      " 4: {(1, 3), (3, 1), (2, 2)},\n",
      " 5: {(3, 2), (4, 1), (1, 4), (2, 3)},\n",
      " 6: {(5, 1), (3, 3), (1, 5), (4, 2), (2, 4)},\n",
      " 7: {(6, 1), (1, 6), (4, 3), (3, 4), (2, 5), (5, 2)},\n",
      " 8: {(3, 5), (2, 6), (4, 4), (6, 2), (5, 3)},\n",
      " 9: {(6, 3), (5, 4), (4, 5), (3, 6)},\n",
      " 10: {(6, 4), (4, 6), (5, 5)},\n",
      " 11: {(5, 6), (6, 5)},\n",
      " 12: {(6, 6)}}\n",
      "\n",
      "Sum   Probability\n",
      "2 1/36\n",
      "3 1/18\n",
      "4 1/12\n",
      "5 1/9\n",
      "6 5/36\n",
      "7 1/6\n",
      "8 5/36\n",
      "9 1/9\n",
      "10 1/12\n",
      "11 1/18\n",
      "12 1/36\n"
     ]
    }
   ],
   "source": [
    "from pprint import pprint\n",
    "# now we'll create a dictionary with values of the sum, and frequencies\n",
    "dice_sum = {}\n",
    "for s in sample:\n",
    "    if sum(s) in dice_sum.keys():\n",
    "        dice_sum[sum(s)].add(s)\n",
    "    else:\n",
    "        dice_sum[sum(s)] = {s}\n",
    "print(\"Sum    Dies\")\n",
    "pprint(dice_sum)\n",
    "\n",
    "## Now getting each probabilities...\n",
    "print(\"\\nSum   Probability\")\n",
    "dice_prob = {}\n",
    "for k, v in sorted(dice_sum.items()):\n",
    "    print(k, P(v, sample))\n",
    "    dice_prob[k] = P(v, sample)"
   ]
  },
  {
   "cell_type": "code",
   "execution_count": 31,
   "metadata": {},
   "outputs": [
    {
     "data": {
      "image/png": "[encoded data removed]",
      "text/plain": [
       "<Figure size 432x288 with 1 Axes>"
      ]
     },
     "metadata": {
      "needs_background": "light"
     },
     "output_type": "display_data"
    }
   ],
   "source": [
    "## Now plot a histogram of this\n",
    "import matplotlib.pyplot as plt\n",
    "plt.bar(dice_prob.keys(), dice_prob.values())\n",
    "plt.show()"
   ]
  },
  {
   "cell_type": "markdown",
   "metadata": {},
   "source": [
    "[Plot a histogram from dictionary](https://stackoverflow.com/questions/21195179/plot-a-histogram-from-a-dictionary)\n",
    "\n",
    "Plot above is a graph of **Probability Function / Probability Distribution**\n",
    "\n",
    "# Probability Function\n",
    "\n",
    "For a discrete sample space $S$, probability function $P$ maps every outcome $\\omega$ to probability of the outcome happening, $P(\\omega)$.\n",
    "## 2 rules of Probability Function\n",
    "1. values of probability function is always between 0 and 1,\n",
    "> $$ 0 < P(\\omega) < 1 $$\n",
    "2. sum of the probabilities of all possible outcome must equal to 1 (or something needs to happen)\n",
    "> $$\\Sigma P(w) = 1$$ \n",
    "\n",
    "From that you can see that the smaller / larger the sum is, the less likely it is to happen\n",
    "\n",
    "# Conditional Probability\n",
    "\n",
    "Conditional Probability is defined as a probability of an event occuring, given that another event occured before.\n",
    "\n",
    "## Example\n",
    "\n",
    "### Coin Toss Example\n"
   ]
  }
 ],
 "metadata": {
  "kernelspec": {
   "display_name": "Python 3",
   "language": "python",
   "name": "python3"
  },
  "language_info": {
   "codemirror_mode": {
    "name": "ipython",
    "version": 3
   },
   "file_extension": ".py",
   "mimetype": "text/x-python",
   "name": "python",
   "nbconvert_exporter": "python",
   "pygments_lexer": "ipython3",
   "version": "3.6.8"
  }
 },
 "nbformat": 4,
 "nbformat_minor": 2
}
